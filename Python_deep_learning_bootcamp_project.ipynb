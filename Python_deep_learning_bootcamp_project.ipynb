{
  "nbformat": 4,
  "nbformat_minor": 0,
  "metadata": {
    "colab": {
      "name": "Python_deep_learning_bootcamp_project.ipynb",
      "provenance": [],
      "collapsed_sections": [],
      "authorship_tag": "ABX9TyOzkI4cquV0IjKmfESxJMpj",
      "include_colab_link": true
    },
    "kernelspec": {
      "name": "python3",
      "display_name": "Python 3"
    }
  },
  "cells": [
    {
      "cell_type": "markdown",
      "metadata": {
        "id": "view-in-github",
        "colab_type": "text"
      },
      "source": [
        "<a href=\"https://colab.research.google.com/github/amisha64/ShapeAi-Bootcamps/blob/main/Python_deep_learning_bootcamp_project.ipynb\" target=\"_parent\"><img src=\"https://colab.research.google.com/assets/colab-badge.svg\" alt=\"Open In Colab\"/></a>"
      ]
    },
    {
      "cell_type": "code",
      "metadata": {
        "id": "VKgtPo_xcuK4"
      },
      "source": [
        "import tensorflow as tf\n",
        "import numpy as np\n",
        "from tensorflow.keras.models import Sequential\n",
        "from tensorflow.keras.layers import Input,Dropout, Dense"
      ],
      "execution_count": null,
      "outputs": []
    },
    {
      "cell_type": "code",
      "metadata": {
        "id": "GROwnLNEdrY4"
      },
      "source": [
        "from keras.datasets import fashion_mnist"
      ],
      "execution_count": null,
      "outputs": []
    },
    {
      "cell_type": "code",
      "metadata": {
        "id": "gUMDt1Lid0Kt"
      },
      "source": [
        "(x_train, y_train), (x_test, y_test) = fashion_mnist.load_data()"
      ],
      "execution_count": null,
      "outputs": []
    },
    {
      "cell_type": "code",
      "metadata": {
        "id": "n07-W-BTfKq3"
      },
      "source": [
        "x_train= x_train.reshape((x_train.shape[0], 28*28)).astype('float32')"
      ],
      "execution_count": null,
      "outputs": []
    },
    {
      "cell_type": "code",
      "metadata": {
        "id": "xKliYB-niGfU"
      },
      "source": [
        "x_test= x_test.reshape((x_test.shape[0], 28*28)).astype('float32')"
      ],
      "execution_count": null,
      "outputs": []
    },
    {
      "cell_type": "code",
      "metadata": {
        "id": "7MyPrCp3inEk"
      },
      "source": [
        "x_train = x_train/255\n",
        "x_test = x_test/255"
      ],
      "execution_count": null,
      "outputs": []
    },
    {
      "cell_type": "code",
      "metadata": {
        "colab": {
          "base_uri": "https://localhost:8080/"
        },
        "id": "lBodNBo6iwky",
        "outputId": "aec11143-6603-4d1c-b05b-b304660ca9c1"
      },
      "source": [
        "from keras.utils import np_utils\n",
        "y_train = np_utils.to_categorical(y_train)\n",
        "y_test = np_utils.to_categorical(y_test)\n",
        "num_class = y_test.shape[1]\n",
        "num_class"
      ],
      "execution_count": null,
      "outputs": [
        {
          "output_type": "execute_result",
          "data": {
            "text/plain": [
              "10"
            ]
          },
          "metadata": {
            "tags": []
          },
          "execution_count": 54
        }
      ]
    },
    {
      "cell_type": "code",
      "metadata": {
        "id": "xwJjM_Orjl4_"
      },
      "source": [
        "model = Sequential()\n",
        "model.add(Dense(32,input_dim=28*28, activation='relu'))\n",
        "model.add(Dense(128, activation='relu'))\n",
        "model.add(Dense(64, activation='relu'))\n",
        "model.add(Dense(256, activation='relu'))\n",
        "model.add(Dense(600, activation='softplus'))\n",
        "model.add(Dense(10, activation='softmax'))"
      ],
      "execution_count": null,
      "outputs": []
    },
    {
      "cell_type": "code",
      "metadata": {
        "colab": {
          "base_uri": "https://localhost:8080/"
        },
        "id": "JkXezi0AlgNX",
        "outputId": "307f5dd6-303d-46f8-be01-49d6420e6792"
      },
      "source": [
        "model.summary()"
      ],
      "execution_count": null,
      "outputs": [
        {
          "output_type": "stream",
          "text": [
            "Model: \"sequential_14\"\n",
            "_________________________________________________________________\n",
            "Layer (type)                 Output Shape              Param #   \n",
            "=================================================================\n",
            "dense_60 (Dense)             (None, 32)                25120     \n",
            "_________________________________________________________________\n",
            "dense_61 (Dense)             (None, 128)               4224      \n",
            "_________________________________________________________________\n",
            "dense_62 (Dense)             (None, 64)                8256      \n",
            "_________________________________________________________________\n",
            "dense_63 (Dense)             (None, 256)               16640     \n",
            "_________________________________________________________________\n",
            "dense_64 (Dense)             (None, 600)               154200    \n",
            "_________________________________________________________________\n",
            "dense_65 (Dense)             (None, 10)                6010      \n",
            "=================================================================\n",
            "Total params: 214,450\n",
            "Trainable params: 214,450\n",
            "Non-trainable params: 0\n",
            "_________________________________________________________________\n"
          ],
          "name": "stdout"
        }
      ]
    },
    {
      "cell_type": "code",
      "metadata": {
        "id": "hiaoT75ymM1O"
      },
      "source": [
        "model.compile(loss='categorical_crossentropy',optimizer='adam',metrics=['accuracy'])"
      ],
      "execution_count": null,
      "outputs": []
    },
    {
      "cell_type": "code",
      "metadata": {
        "colab": {
          "base_uri": "https://localhost:8080/"
        },
        "id": "xPx7iB3blnw4",
        "outputId": "4ef34464-1df7-42f9-968a-173eb41a866d"
      },
      "source": [
        "model.fit(x_train,y_train,validation_split=0.2,epochs=15, batch_size=1000)"
      ],
      "execution_count": null,
      "outputs": [
        {
          "output_type": "stream",
          "text": [
            "Epoch 1/15\n",
            "48/48 [==============================] - 3s 44ms/step - loss: 1.7148 - accuracy: 0.4052 - val_loss: 0.6123 - val_accuracy: 0.7684\n",
            "Epoch 2/15\n",
            "48/48 [==============================] - 2s 41ms/step - loss: 0.5789 - accuracy: 0.7848 - val_loss: 0.4871 - val_accuracy: 0.8263\n",
            "Epoch 3/15\n",
            "48/48 [==============================] - 2s 41ms/step - loss: 0.4857 - accuracy: 0.8229 - val_loss: 0.4542 - val_accuracy: 0.8370\n",
            "Epoch 4/15\n",
            "48/48 [==============================] - 2s 41ms/step - loss: 0.4288 - accuracy: 0.8484 - val_loss: 0.4198 - val_accuracy: 0.8487\n",
            "Epoch 5/15\n",
            "48/48 [==============================] - 2s 41ms/step - loss: 0.4066 - accuracy: 0.8529 - val_loss: 0.3971 - val_accuracy: 0.8615\n",
            "Epoch 6/15\n",
            "48/48 [==============================] - 2s 41ms/step - loss: 0.3855 - accuracy: 0.8629 - val_loss: 0.3813 - val_accuracy: 0.8654\n",
            "Epoch 7/15\n",
            "48/48 [==============================] - 2s 41ms/step - loss: 0.3640 - accuracy: 0.8681 - val_loss: 0.3716 - val_accuracy: 0.8691\n",
            "Epoch 8/15\n",
            "48/48 [==============================] - 2s 41ms/step - loss: 0.3417 - accuracy: 0.8761 - val_loss: 0.3687 - val_accuracy: 0.8651\n",
            "Epoch 9/15\n",
            "48/48 [==============================] - 2s 41ms/step - loss: 0.3347 - accuracy: 0.8773 - val_loss: 0.3589 - val_accuracy: 0.8708\n",
            "Epoch 10/15\n",
            "48/48 [==============================] - 2s 41ms/step - loss: 0.3341 - accuracy: 0.8774 - val_loss: 0.3491 - val_accuracy: 0.8742\n",
            "Epoch 11/15\n",
            "48/48 [==============================] - 2s 41ms/step - loss: 0.3114 - accuracy: 0.8855 - val_loss: 0.3551 - val_accuracy: 0.8696\n",
            "Epoch 12/15\n",
            "48/48 [==============================] - 2s 41ms/step - loss: 0.3080 - accuracy: 0.8867 - val_loss: 0.3426 - val_accuracy: 0.8779\n",
            "Epoch 13/15\n",
            "48/48 [==============================] - 2s 41ms/step - loss: 0.3027 - accuracy: 0.8886 - val_loss: 0.3387 - val_accuracy: 0.8790\n",
            "Epoch 14/15\n",
            "48/48 [==============================] - 2s 41ms/step - loss: 0.2910 - accuracy: 0.8922 - val_loss: 0.3483 - val_accuracy: 0.8748\n",
            "Epoch 15/15\n",
            "48/48 [==============================] - 2s 42ms/step - loss: 0.2883 - accuracy: 0.8928 - val_loss: 0.3331 - val_accuracy: 0.8778\n"
          ],
          "name": "stdout"
        },
        {
          "output_type": "execute_result",
          "data": {
            "text/plain": [
              "<tensorflow.python.keras.callbacks.History at 0x7f6c8d10e400>"
            ]
          },
          "metadata": {
            "tags": []
          },
          "execution_count": 101
        }
      ]
    },
    {
      "cell_type": "code",
      "metadata": {
        "colab": {
          "base_uri": "https://localhost:8080/"
        },
        "id": "AG3npDl3no0q",
        "outputId": "00558421-c515-4c4c-b7ba-87fcfded99b1"
      },
      "source": [
        "result= model.evaluate(x_test,y_test)\n",
        "print(result)"
      ],
      "execution_count": null,
      "outputs": [
        {
          "output_type": "stream",
          "text": [
            "313/313 [==============================] - 1s 2ms/step - loss: 0.3600 - accuracy: 0.8731\n",
            "[0.3599676787853241, 0.8730999827384949]\n"
          ],
          "name": "stdout"
        }
      ]
    }
  ]
}